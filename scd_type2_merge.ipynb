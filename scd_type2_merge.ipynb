{
 "cells": [
  {
   "cell_type": "code",
   "execution_count": 0,
   "metadata": {
    "application/vnd.databricks.v1+cell": {
     "cellMetadata": {
      "byteLimit": 2048000,
      "rowLimit": 10000
     },
     "inputWidgets": {},
     "nuid": "d5e84ac5-d3a8-4132-9930-53fd8565aacf",
     "showTitle": false,
     "tableResultSettingsMap": {},
     "title": ""
    }
   },
   "outputs": [],
   "source": [
    "from pyspark.sql.functions import col, lit, current_timestamp, sum as _sum\n",
    "from delta.tables import DeltaTable\n",
    "from pydeequ.checks import Check, CheckLevel\n",
    "from pydeequ.verification import VerificationSuite, VerificationResult\n",
    "import os\n",
    "\n",
    "print(os.environ['SPARK_VERSION'])\n",
    "date_str = \"2024-07-25\"\n",
    "\n",
    "booking_data = f\"dbfs:/Volumes/incremental_load/default/orders_data/booking_data/bookings_{date_str}.csv\"\n",
    "customer_data = f\"/Volumes/incremental_load/default/orders_data/customer_data/customers_{date_str}.csv\"\n",
    "\n",
    "print(booking_data)\n",
    "print(customer_data)\n",
    "\n",
    "booking_df = spark.read.format(\"csv\").option(\"header\", \"True\").option(\"inferSchema\", \"True\").option(\"quote\",\"\\\"\").option(\"multiLine\",\"True\").load(booking_data)\n",
    "booking_df.printSchema()\n",
    "display(booking_df)\n",
    "\n",
    "customer_df = spark.read.format(\"csv\").option(\"header\",\"True\").option(\"inferSchema\",\"True\").option(\"quote\",\"\\\"\").option(\"multiLine\",\"True\").load(customer_data)\n",
    "customer_df.printSchema()\n",
    "display(customer_df)\n",
    "\n"
   ]
  }
 ],
 "metadata": {
  "application/vnd.databricks.v1+notebook": {
   "computePreferences": null,
   "dashboards": [],
   "environmentMetadata": {
    "base_environment": "",
    "environment_version": "2"
   },
   "inputWidgetPreferences": null,
   "language": "python",
   "notebookMetadata": {
    "pythonIndentUnit": 4
   },
   "notebookName": "scd_type2_merge",
   "widgets": {}
  },
  "language_info": {
   "name": "python"
  }
 },
 "nbformat": 4,
 "nbformat_minor": 0
}
